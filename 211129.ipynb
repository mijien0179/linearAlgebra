{
  "nbformat": 4,
  "nbformat_minor": 0,
  "metadata": {
    "colab": {
      "name": "211129",
      "provenance": [],
      "collapsed_sections": [],
      "authorship_tag": "ABX9TyPwhizAljoUZtUYOCr+hKW8",
      "include_colab_link": true
    },
    "kernelspec": {
      "display_name": "Python 3",
      "name": "python3"
    },
    "language_info": {
      "name": "python"
    }
  },
  "cells": [
    {
      "cell_type": "markdown",
      "metadata": {
        "id": "view-in-github",
        "colab_type": "text"
      },
      "source": [
        "<a href=\"https://colab.research.google.com/github/mijien0179/linearAlgebra/blob/main/211129.ipynb\" target=\"_parent\"><img src=\"https://colab.research.google.com/assets/colab-badge.svg\" alt=\"Open In Colab\"/></a>"
      ]
    },
    {
      "cell_type": "code",
      "metadata": {
        "id": "67tZV3-b_al6"
      },
      "source": [
        "import numpy as np"
      ],
      "execution_count": null,
      "outputs": []
    },
    {
      "cell_type": "code",
      "metadata": {
        "colab": {
          "base_uri": "https://localhost:8080/"
        },
        "id": "cP7PCrrl9fLi",
        "outputId": "9c3328a1-b78d-4403-dbcb-c32deb9d98c8"
      },
      "source": [
        "A = np.array([[0, 1, -2.3, 0.1], [1.3, 4, -0.1, 0], [4.1, -1, 0, 1.7]])\n",
        "A.shape\n",
        "print(A.shape)\n"
      ],
      "execution_count": null,
      "outputs": [
        {
          "output_type": "stream",
          "name": "stdout",
          "text": [
            "(3, 4)\n"
          ]
        }
      ]
    },
    {
      "cell_type": "code",
      "metadata": {
        "id": "2pMFAJdF_hrB",
        "colab": {
          "base_uri": "https://localhost:8080/"
        },
        "outputId": "d7c6fe5f-d270-4971-9156-70336054792e"
      },
      "source": [
        "m,n = A.shape\n",
        "print(\"A of row\", m)\n",
        "print(\"A of column\", n)"
      ],
      "execution_count": 16,
      "outputs": [
        {
          "output_type": "stream",
          "name": "stdout",
          "text": [
            "A of row 3\n",
            "A of column 4\n"
          ]
        }
      ]
    },
    {
      "cell_type": "code",
      "metadata": {
        "id": "RzzC5dIIAaXS",
        "colab": {
          "base_uri": "https://localhost:8080/"
        },
        "outputId": "32f851ec-b185-4c5c-fa99-4912f51e88ff"
      },
      "source": [
        "tall = lambda X: X.shape[0] > X.shape[1]\n",
        "tall(A)"
      ],
      "execution_count": 18,
      "outputs": [
        {
          "output_type": "execute_result",
          "data": {
            "text/plain": [
              "False"
            ]
          },
          "metadata": {},
          "execution_count": 18
        }
      ]
    },
    {
      "cell_type": "code",
      "metadata": {
        "colab": {
          "base_uri": "https://localhost:8080/"
        },
        "id": "pW8Kgn_8A5-N",
        "outputId": "5ce2f8b0-f4b8-4273-b2db-70db6a4740ce"
      },
      "source": [
        "wide = lambda x:x.shape[0] < x.shape[1];\n",
        "wide(A)"
      ],
      "execution_count": 19,
      "outputs": [
        {
          "output_type": "execute_result",
          "data": {
            "text/plain": [
              "True"
            ]
          },
          "metadata": {},
          "execution_count": 19
        }
      ]
    },
    {
      "cell_type": "code",
      "metadata": {
        "colab": {
          "base_uri": "https://localhost:8080/"
        },
        "id": "M5v1lsaoA-UM",
        "outputId": "b5c9ae95-f279-4373-f034-1a13467cad5c"
      },
      "source": [
        "A[0,2]"
      ],
      "execution_count": 20,
      "outputs": [
        {
          "output_type": "execute_result",
          "data": {
            "text/plain": [
              "-2.3"
            ]
          },
          "metadata": {},
          "execution_count": 20
        }
      ]
    },
    {
      "cell_type": "code",
      "metadata": {
        "colab": {
          "base_uri": "https://localhost:8080/"
        },
        "id": "jjqwbCgWA__x",
        "outputId": "f0ba3d90-82c0-419b-8757-2fc96ad2d567"
      },
      "source": [
        "A[0,2] = 7.5\n",
        "A"
      ],
      "execution_count": 21,
      "outputs": [
        {
          "output_type": "execute_result",
          "data": {
            "text/plain": [
              "array([[ 0. ,  1. ,  7.5,  0.1],\n",
              "       [ 1.3,  4. , -0.1,  0. ],\n",
              "       [ 4.1, -1. ,  0. ,  1.7]])"
            ]
          },
          "metadata": {},
          "execution_count": 21
        }
      ]
    },
    {
      "cell_type": "code",
      "metadata": {
        "colab": {
          "base_uri": "https://localhost:8080/"
        },
        "id": "FTGNgM8TBDJ4",
        "outputId": "344cf88d-e1e3-4691-e516-7f9ceb2136e3"
      },
      "source": [
        "A = np.array([[0, 1, -2.3, 0.1], [1.3, 4, -0.1, 0], [4.1, -1, 0, 1.7]])\n",
        "B = A.copy();\n",
        "print(A == B)\n",
        "print(np.sum(A==B))"
      ],
      "execution_count": 22,
      "outputs": [
        {
          "output_type": "stream",
          "name": "stdout",
          "text": [
            "[[ True  True  True  True]\n",
            " [ True  True  True  True]\n",
            " [ True  True  True  True]]\n",
            "12\n"
          ]
        }
      ]
    },
    {
      "cell_type": "code",
      "metadata": {
        "colab": {
          "base_uri": "https://localhost:8080/"
        },
        "id": "X5eOcTugB6x4",
        "outputId": "42c71bd1-f35e-43ef-e44f-bb5ca7cff57c"
      },
      "source": [
        "B[0,3] = 100\n",
        "print(A==B)\n",
        "print(np.sum(A==B))"
      ],
      "execution_count": 23,
      "outputs": [
        {
          "output_type": "stream",
          "name": "stdout",
          "text": [
            "[[ True  True  True False]\n",
            " [ True  True  True  True]\n",
            " [ True  True  True  True]]\n",
            "11\n"
          ]
        }
      ]
    },
    {
      "cell_type": "code",
      "metadata": {
        "colab": {
          "base_uri": "https://localhost:8080/"
        },
        "id": "rj6PutL-DCDh",
        "outputId": "3fd32bfb-6939-4d22-c194-19f46caf1bf2"
      },
      "source": [
        "A = np.array([[-1, 0, 1, 0], [2,-3, 0, 1], [0, 4, -2, 1]])\n",
        "print(A)\n",
        "print(A[0:2, 2:4])"
      ],
      "execution_count": 32,
      "outputs": [
        {
          "output_type": "stream",
          "name": "stdout",
          "text": [
            "[[-1  0  1  0]\n",
            " [ 2 -3  0  1]\n",
            " [ 0  4 -2  1]]\n",
            "[[1 0]\n",
            " [0 1]]\n"
          ]
        }
      ]
    },
    {
      "cell_type": "code",
      "metadata": {
        "colab": {
          "base_uri": "https://localhost:8080/"
        },
        "id": "0ONiQnCwEPQL",
        "outputId": "a894af56-8c63-4bf5-f417-0111716165aa"
      },
      "source": [
        "A[:, 2] # A[0:, 2:3]"
      ],
      "execution_count": 37,
      "outputs": [
        {
          "output_type": "execute_result",
          "data": {
            "text/plain": [
              "array([ 1,  0, -2])"
            ]
          },
          "metadata": {},
          "execution_count": 37
        }
      ]
    },
    {
      "cell_type": "code",
      "metadata": {
        "colab": {
          "base_uri": "https://localhost:8080/"
        },
        "id": "Hau1Uwd5EeYP",
        "outputId": "f18f5e20-66de-4c6a-b6ba-0a0a07ef8462"
      },
      "source": [
        "A[1,:]"
      ],
      "execution_count": 34,
      "outputs": [
        {
          "output_type": "execute_result",
          "data": {
            "text/plain": [
              "array([ 2, -3,  0,  1])"
            ]
          },
          "metadata": {},
          "execution_count": 34
        }
      ]
    },
    {
      "cell_type": "code",
      "metadata": {
        "colab": {
          "base_uri": "https://localhost:8080/"
        },
        "id": "mF4EZpiWExZa",
        "outputId": "69784bb5-339e-4d3d-8d43-9d2bbe7f4997"
      },
      "source": [
        "A.reshape((6,2))"
      ],
      "execution_count": 38,
      "outputs": [
        {
          "output_type": "execute_result",
          "data": {
            "text/plain": [
              "array([[-1,  0],\n",
              "       [ 1,  0],\n",
              "       [ 2, -3],\n",
              "       [ 0,  1],\n",
              "       [ 0,  4],\n",
              "       [-2,  1]])"
            ]
          },
          "metadata": {},
          "execution_count": 38
        }
      ]
    },
    {
      "cell_type": "code",
      "metadata": {
        "colab": {
          "base_uri": "https://localhost:8080/"
        },
        "id": "imiXEYEtFOvJ",
        "outputId": "334d0f55-be7d-490a-8487-585973296433"
      },
      "source": [
        "A.reshape((4,3))"
      ],
      "execution_count": 39,
      "outputs": [
        {
          "output_type": "execute_result",
          "data": {
            "text/plain": [
              "array([[-1,  0,  1],\n",
              "       [ 0,  2, -3],\n",
              "       [ 0,  1,  0],\n",
              "       [ 4, -2,  1]])"
            ]
          },
          "metadata": {},
          "execution_count": 39
        }
      ]
    },
    {
      "cell_type": "code",
      "metadata": {
        "colab": {
          "base_uri": "https://localhost:8080/"
        },
        "id": "yQ01FC5IFS1F",
        "outputId": "5fa11177-f876-4d87-8c01-25d462f1b46d"
      },
      "source": [
        "A.reshape((1,12))"
      ],
      "execution_count": 40,
      "outputs": [
        {
          "output_type": "execute_result",
          "data": {
            "text/plain": [
              "array([[-1,  0,  1,  0,  2, -3,  0,  1,  0,  4, -2,  1]])"
            ]
          },
          "metadata": {},
          "execution_count": 40
        }
      ]
    },
    {
      "cell_type": "code",
      "metadata": {
        "colab": {
          "base_uri": "https://localhost:8080/",
          "height": 174
        },
        "id": "m1La-h0oFVIB",
        "outputId": "654ce137-6857-4add-cc52-62af90e0c2a5"
      },
      "source": [
        "A.reshape((3,2)) # ERROR"
      ],
      "execution_count": 41,
      "outputs": [
        {
          "output_type": "error",
          "ename": "ValueError",
          "evalue": "ignored",
          "traceback": [
            "\u001b[0;31m---------------------------------------------------------------------------\u001b[0m",
            "\u001b[0;31mValueError\u001b[0m                                Traceback (most recent call last)",
            "\u001b[0;32m<ipython-input-41-dcf4d896d08c>\u001b[0m in \u001b[0;36m<module>\u001b[0;34m()\u001b[0m\n\u001b[0;32m----> 1\u001b[0;31m \u001b[0mA\u001b[0m\u001b[0;34m.\u001b[0m\u001b[0mreshape\u001b[0m\u001b[0;34m(\u001b[0m\u001b[0;34m(\u001b[0m\u001b[0;36m3\u001b[0m\u001b[0;34m,\u001b[0m\u001b[0;36m2\u001b[0m\u001b[0;34m)\u001b[0m\u001b[0;34m)\u001b[0m\u001b[0;34m\u001b[0m\u001b[0;34m\u001b[0m\u001b[0m\n\u001b[0m",
            "\u001b[0;31mValueError\u001b[0m: cannot reshape array of size 12 into shape (3,2)"
          ]
        }
      ]
    },
    {
      "cell_type": "code",
      "metadata": {
        "colab": {
          "base_uri": "https://localhost:8080/"
        },
        "id": "t6-g3_xfFZoA",
        "outputId": "f9d9b306-0402-423b-e047-68fdfc4d874c"
      },
      "source": [
        "B = np.array([0,2,3])\n",
        "C = np.array([-1])\n",
        "D = np.array([[2,2,1], [1,3,5]])\n",
        "E = np.array([[4],[5]])\n",
        "\n",
        "A = np.block([[B,C], [D,E]])\n",
        "A"
      ],
      "execution_count": 45,
      "outputs": [
        {
          "output_type": "execute_result",
          "data": {
            "text/plain": [
              "array([[ 0,  2,  3, -1],\n",
              "       [ 2,  2,  1,  4],\n",
              "       [ 1,  3,  5,  5]])"
            ]
          },
          "metadata": {},
          "execution_count": 45
        }
      ]
    },
    {
      "cell_type": "code",
      "metadata": {
        "colab": {
          "base_uri": "https://localhost:8080/"
        },
        "id": "xuHP8jqrGogU",
        "outputId": "0f67834f-bac1-4b58-9b09-09e601f1613b"
      },
      "source": [
        "a = [1,2]\n",
        "b = [4,5]\n",
        "c = [7,8]\n",
        "A = np.vstack([a,b,c])\n",
        "B = np.hstack([a,b,c])\n",
        "print('matrix A: \\n', A)\n",
        "print('dimensions of A:', A.shape)\n",
        "print('matrix B :', B)\n",
        "print('dimensions of B:', B.shape)"
      ],
      "execution_count": 47,
      "outputs": [
        {
          "output_type": "stream",
          "name": "stdout",
          "text": [
            "matrix A: \n",
            " [[1 2]\n",
            " [4 5]\n",
            " [7 8]]\n",
            "dimensions of A: (3, 2)\n",
            "matrix B : [1 2 4 5 7 8]\n",
            "dimensions of B: (6,)\n"
          ]
        }
      ]
    },
    {
      "cell_type": "code",
      "metadata": {
        "colab": {
          "base_uri": "https://localhost:8080/"
        },
        "id": "SQ2tZQ28HXni",
        "outputId": "13830268-a928-42e2-97dd-095c175372e7"
      },
      "source": [
        "a = [[1],[2]]\n",
        "b = [[4],[5]]\n",
        "c = [[7],[8]]\n",
        "A = np.vstack([a,b,c])\n",
        "B = np.hstack([a,b,c])\n",
        "print('matrix A: \\n', A)\n",
        "print('dimensions of A:', A.shape)\n",
        "print('matrix B :', B)\n",
        "print('dimensions of B:', B.shape)"
      ],
      "execution_count": 48,
      "outputs": [
        {
          "output_type": "stream",
          "name": "stdout",
          "text": [
            "matrix A: \n",
            " [[1]\n",
            " [2]\n",
            " [4]\n",
            " [5]\n",
            " [7]\n",
            " [8]]\n",
            "dimensions of A: (6, 1)\n",
            "matrix B : [[1 4 7]\n",
            " [2 5 8]]\n",
            "dimensions of B: (2, 3)\n"
          ]
        }
      ]
    },
    {
      "cell_type": "code",
      "metadata": {
        "colab": {
          "base_uri": "https://localhost:8080/"
        },
        "id": "VDp1oCQnHf_o",
        "outputId": "4f949d98-cbdd-4354-9ce4-36aba2125b04"
      },
      "source": [
        "np.zeros((4,3))"
      ],
      "execution_count": 58,
      "outputs": [
        {
          "output_type": "execute_result",
          "data": {
            "text/plain": [
              "array([[0., 0., 0.],\n",
              "       [0., 0., 0.],\n",
              "       [0., 0., 0.],\n",
              "       [0., 0., 0.]])"
            ]
          },
          "metadata": {},
          "execution_count": 58
        }
      ]
    },
    {
      "cell_type": "code",
      "metadata": {
        "colab": {
          "base_uri": "https://localhost:8080/"
        },
        "id": "YzlbbuCMJNYw",
        "outputId": "434e8ba5-bbf4-49b8-b0ed-ade6eb39ee2e"
      },
      "source": [
        "np.ones((3,4))"
      ],
      "execution_count": 57,
      "outputs": [
        {
          "output_type": "execute_result",
          "data": {
            "text/plain": [
              "array([[1., 1., 1., 1.],\n",
              "       [1., 1., 1., 1.],\n",
              "       [1., 1., 1., 1.]])"
            ]
          },
          "metadata": {},
          "execution_count": 57
        }
      ]
    },
    {
      "cell_type": "code",
      "metadata": {
        "colab": {
          "base_uri": "https://localhost:8080/"
        },
        "id": "xz8epCqfH9jc",
        "outputId": "1c3a3e0c-6597-4c53-a530-5d6c397a8056"
      },
      "source": [
        "x = np.array([[0,1,2], [3,4,5],[6,7,8]])\n",
        "print(np.diag(x))"
      ],
      "execution_count": 51,
      "outputs": [
        {
          "output_type": "stream",
          "name": "stdout",
          "text": [
            "[0 4 8]\n"
          ]
        }
      ]
    },
    {
      "cell_type": "code",
      "metadata": {
        "colab": {
          "base_uri": "https://localhost:8080/"
        },
        "id": "69DERV3vIfC8",
        "outputId": "8c857976-9e45-4bba-cab7-05f79a5e38f1"
      },
      "source": [
        "print(np.diag(np.diag(x)))"
      ],
      "execution_count": 52,
      "outputs": [
        {
          "output_type": "stream",
          "name": "stdout",
          "text": [
            "[[0 0 0]\n",
            " [0 4 0]\n",
            " [0 0 8]]\n"
          ]
        }
      ]
    },
    {
      "cell_type": "code",
      "metadata": {
        "colab": {
          "base_uri": "https://localhost:8080/"
        },
        "id": "PW3y22RzIhwm",
        "outputId": "49eb5a81-06f4-4868-ad75-b85ff78f5393"
      },
      "source": [
        "np.random.random((2,3))"
      ],
      "execution_count": 54,
      "outputs": [
        {
          "output_type": "execute_result",
          "data": {
            "text/plain": [
              "array([[0.4358098 , 0.12785569, 0.07573777],\n",
              "       [0.01048442, 0.92313684, 0.55629421]])"
            ]
          },
          "metadata": {},
          "execution_count": 54
        }
      ]
    },
    {
      "cell_type": "code",
      "metadata": {
        "colab": {
          "base_uri": "https://localhost:8080/"
        },
        "id": "TRdZ388PIl3l",
        "outputId": "d12f6312-482d-4b8a-a211-9b0a9f92554d"
      },
      "source": [
        "np.random.randn(3,4)"
      ],
      "execution_count": 80,
      "outputs": [
        {
          "output_type": "execute_result",
          "data": {
            "text/plain": [
              "array([[ 0.4678641 , -0.64795415,  0.23084401,  1.94251538],\n",
              "       [ 1.01589831, -0.72498779, -0.21228698,  1.1862977 ],\n",
              "       [ 0.76597655,  0.49495712,  0.72905891,  1.02305607]])"
            ]
          },
          "metadata": {},
          "execution_count": 80
        }
      ]
    },
    {
      "cell_type": "code",
      "metadata": {
        "colab": {
          "base_uri": "https://localhost:8080/"
        },
        "id": "Hs6aXiPwK9pb",
        "outputId": "bcb5cf0e-44b9-431f-e191-2ae755827d0c"
      },
      "source": [
        "H = np.array([[0,1,-2,1], [2,-1,3,0]])\n",
        "H"
      ],
      "execution_count": 81,
      "outputs": [
        {
          "output_type": "execute_result",
          "data": {
            "text/plain": [
              "array([[ 0,  1, -2,  1],\n",
              "       [ 2, -1,  3,  0]])"
            ]
          },
          "metadata": {},
          "execution_count": 81
        }
      ]
    },
    {
      "cell_type": "code",
      "metadata": {
        "colab": {
          "base_uri": "https://localhost:8080/"
        },
        "id": "cfO4Z5VSMLR0",
        "outputId": "dffbd103-1a2c-46e9-a6f5-96b1e0f02a4e"
      },
      "source": [
        "H.T"
      ],
      "execution_count": 82,
      "outputs": [
        {
          "output_type": "execute_result",
          "data": {
            "text/plain": [
              "array([[ 0,  2],\n",
              "       [ 1, -1],\n",
              "       [-2,  3],\n",
              "       [ 1,  0]])"
            ]
          },
          "metadata": {},
          "execution_count": 82
        }
      ]
    },
    {
      "cell_type": "code",
      "metadata": {
        "colab": {
          "base_uri": "https://localhost:8080/"
        },
        "id": "p9OuEQmcMMan",
        "outputId": "79b05320-ffce-42e0-b95e-fd489224ec84"
      },
      "source": [
        "np.transpose(H)"
      ],
      "execution_count": 83,
      "outputs": [
        {
          "output_type": "execute_result",
          "data": {
            "text/plain": [
              "array([[ 0,  2],\n",
              "       [ 1, -1],\n",
              "       [-2,  3],\n",
              "       [ 1,  0]])"
            ]
          },
          "metadata": {},
          "execution_count": 83
        }
      ]
    },
    {
      "cell_type": "code",
      "metadata": {
        "colab": {
          "base_uri": "https://localhost:8080/"
        },
        "id": "d4ioPpX1MOya",
        "outputId": "84746605-954d-47dc-c186-d7053b2a8643"
      },
      "source": [
        "U = np.array([[0,4], [7,0], [3,1]])\n",
        "V = np.array([[1,2], [2,3], [0,4]])\n",
        "U + V"
      ],
      "execution_count": 85,
      "outputs": [
        {
          "output_type": "execute_result",
          "data": {
            "text/plain": [
              "array([[1, 6],\n",
              "       [9, 3],\n",
              "       [3, 5]])"
            ]
          },
          "metadata": {},
          "execution_count": 85
        }
      ]
    },
    {
      "cell_type": "code",
      "metadata": {
        "colab": {
          "base_uri": "https://localhost:8080/"
        },
        "id": "uR8KDuXNMbNT",
        "outputId": "64bed7c8-44bc-489a-93ff-638b4e193a65"
      },
      "source": [
        "2.2*U"
      ],
      "execution_count": 86,
      "outputs": [
        {
          "output_type": "execute_result",
          "data": {
            "text/plain": [
              "array([[ 0. ,  8.8],\n",
              "       [15.4,  0. ],\n",
              "       [ 6.6,  2.2]])"
            ]
          },
          "metadata": {},
          "execution_count": 86
        }
      ]
    },
    {
      "cell_type": "code",
      "metadata": {
        "colab": {
          "base_uri": "https://localhost:8080/"
        },
        "id": "5YvJaozUMfxJ",
        "outputId": "1e70a676-7702-4864-d92f-64570ec60548"
      },
      "source": [
        "A = np.array([[2,3,-1], [0,-1,4]])\n",
        "np.linalg.norm(A)"
      ],
      "execution_count": 87,
      "outputs": [
        {
          "output_type": "execute_result",
          "data": {
            "text/plain": [
              "5.5677643628300215"
            ]
          },
          "metadata": {},
          "execution_count": 87
        }
      ]
    },
    {
      "cell_type": "code",
      "metadata": {
        "colab": {
          "base_uri": "https://localhost:8080/"
        },
        "id": "FoTDCDBlMrs4",
        "outputId": "8f1a68e7-eb45-49d8-c657-27f0bd34c028"
      },
      "source": [
        "A = np.array([[0,2,-1], [-2,1,1]])\n",
        "x = np.array([2,1,-1])\n",
        "\n",
        "A @ x"
      ],
      "execution_count": 89,
      "outputs": [
        {
          "output_type": "execute_result",
          "data": {
            "text/plain": [
              "array([ 3, -4])"
            ]
          },
          "metadata": {},
          "execution_count": 89
        }
      ]
    },
    {
      "cell_type": "code",
      "metadata": {
        "colab": {
          "base_uri": "https://localhost:8080/"
        },
        "id": "c6iq-L9-NOCV",
        "outputId": "10fa0425-c625-451d-a237-17c539d777a8"
      },
      "source": [
        "Rot = lambda theta: [[np.cos(theta), -np.sin(theta)], [np.sin(theta), np.cos(theta)]]\n",
        "R = Rot(np.pi / 3)\n",
        "R"
      ],
      "execution_count": 90,
      "outputs": [
        {
          "output_type": "execute_result",
          "data": {
            "text/plain": [
              "[[0.5000000000000001, -0.8660254037844386],\n",
              " [0.8660254037844386, 0.5000000000000001]]"
            ]
          },
          "metadata": {},
          "execution_count": 90
        }
      ]
    },
    {
      "cell_type": "code",
      "metadata": {
        "id": "UHMuH_VxNyZC"
      },
      "source": [
        "points = np.array([[1,0],[1.5,0],[1,0.25], [1.5, 0.25], [1,0.5]])"
      ],
      "execution_count": 94,
      "outputs": []
    },
    {
      "cell_type": "code",
      "metadata": {
        "id": "XRF8e_j_N7a-"
      },
      "source": [
        "rpoints = np.array([R @ p for p in points])"
      ],
      "execution_count": 92,
      "outputs": []
    },
    {
      "cell_type": "code",
      "metadata": {
        "colab": {
          "base_uri": "https://localhost:8080/"
        },
        "id": "xFMnxSQ4N_yf",
        "outputId": "7cb215eb-6d3c-4cbc-b506-7185281de571"
      },
      "source": [
        "print(points)\n",
        "print(rpoints)"
      ],
      "execution_count": 95,
      "outputs": [
        {
          "output_type": "stream",
          "name": "stdout",
          "text": [
            "[[1.   0.  ]\n",
            " [1.5  0.  ]\n",
            " [1.   0.25]\n",
            " [1.5  0.25]\n",
            " [1.   0.5 ]]\n",
            "[[0.5        0.8660254 ]\n",
            " [0.75       1.29903811]\n",
            " [0.28349365 0.9910254 ]\n",
            " [0.53349365 1.42403811]\n",
            " [0.0669873  1.1160254 ]]\n"
          ]
        }
      ]
    },
    {
      "cell_type": "code",
      "metadata": {
        "colab": {
          "base_uri": "https://localhost:8080/",
          "height": 265
        },
        "id": "3ja-mLh2OKkT",
        "outputId": "d9839724-2297-417b-f094-6cb3457655fc"
      },
      "source": [
        "import matplotlib.pyplot as plt\n",
        "plt.ion()\n",
        "plt.scatter([c[0] for c in points], [c[1] for c in points])\n",
        "plt.scatter([c[0] for c in rpoints], [c[1] for c in rpoints])\n",
        "plt.show()"
      ],
      "execution_count": 97,
      "outputs": [
        {
          "output_type": "display_data",
          "data": {
            "image/png": "[encoded data removed]",
            "text/plain": [
              "<Figure size 432x288 with 1 Axes>"
            ]
          },
          "metadata": {
            "needs_background": "light"
          }
        }
      ]
    }
  ]
}